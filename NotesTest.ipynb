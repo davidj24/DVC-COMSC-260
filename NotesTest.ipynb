{
 "cells": [
  {
   "cell_type": "code",
   "execution_count": 5,
   "metadata": {
    "vscode": {
     "languageId": "shellscript"
    }
   },
   "outputs": [
    {
     "name": "stdout",
     "output_type": "stream",
     "text": [
      "Hello, World!\n"
     ]
    }
   ],
   "source": [
    "echo '\n",
    "        .section .data\n",
    "msg:    .asciz \"Hello, World!\\n\"\n",
    "\n",
    "        .section .text\n",
    "        .global _start\n",
    "\n",
    "_start:\n",
    "        # Write syscall (sys_write)\n",
    "        mov $1, %rax         # syscall: sys_write (1)\n",
    "        mov $1, %rdi         # file descriptor: stdout (1)\n",
    "        lea msg(%rip), %rsi  # pointer to message\n",
    "        mov $14, %rdx        # message length\n",
    "        syscall\n",
    "\n",
    "        # Exit syscall (sys_exit)\n",
    "        mov $60, %rax        # syscall: sys_exit (60)\n",
    "        xor %rdi, %rdi       # status: 0\n",
    "        syscall\n",
    "' > temp.s\n",
    "\n",
    "# Assemble, Link, and Execute\n",
    "as -o temp.o temp.s\n",
    "ld -o temp temp.o\n",
    "./temp\n",
    "\n",
    "# Clean up (optional)\n",
    "rm temp.s temp.o temp\n"
   ]
  },
  {
   "cell_type": "code",
   "execution_count": null,
   "metadata": {
    "vscode": {
     "languageId": "shellscript"
    }
   },
   "outputs": [],
   "source": []
  },
  {
   "cell_type": "markdown",
   "metadata": {},
   "source": [
    "### Writing and Running Code in Assembly Template"
   ]
  },
  {
   "cell_type": "code",
   "execution_count": 4,
   "metadata": {
    "vscode": {
     "languageId": "shellscript"
    }
   },
   "outputs": [],
   "source": [
    "echo '\n",
    "        .section .data\n",
    "msg:    .asciz \"Your message here\\n\"\n",
    "\n",
    "        .section .text\n",
    "        .global _start\n",
    "\n",
    "_start:\n",
    "        # Write your assembly instructions here\n",
    "\n",
    "        # Exit syscall (sys_exit)\n",
    "        mov $60, %rax        # syscall: sys_exit (60)\n",
    "        xor %rdi, %rdi       # status: 0\n",
    "        syscall\n",
    "' > temp.s\n",
    "\n",
    "# Assemble, Link, and Execute\n",
    "as -o temp.o temp.s\n",
    "ld -o temp temp.o\n",
    "./temp\n",
    "\n",
    "# Clean up (optional)\n",
    "rm temp.s temp.o temp\n"
   ]
  },
  {
   "cell_type": "code",
   "execution_count": null,
   "metadata": {
    "vscode": {
     "languageId": "shellscript"
    }
   },
   "outputs": [],
   "source": []
  }
 ],
 "metadata": {
  "kernelspec": {
   "display_name": "Bash",
   "language": "bash",
   "name": "bash"
  },
  "language_info": {
   "codemirror_mode": "shell",
   "file_extension": ".sh",
   "mimetype": "text/x-sh",
   "name": "bash"
  }
 },
 "nbformat": 4,
 "nbformat_minor": 2
}
